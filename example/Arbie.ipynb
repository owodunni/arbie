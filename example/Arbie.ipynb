{
 "cells": [
  {
   "cell_type": "code",
   "execution_count": 1,
   "metadata": {},
   "outputs": [],
   "source": [
    "from Arbie.Actions.amm import Amm, Token, Variable"
   ]
  },
  {
   "cell_type": "code",
   "execution_count": 2,
   "metadata": {},
   "outputs": [
    {
     "data": {
      "text/plain": [
       "384.3137254901961"
      ]
     },
     "execution_count": 2,
     "metadata": {},
     "output_type": "execute_result"
    }
   ],
   "source": [
    "size = 100\n",
    "\n",
    "# Setup tokens\n",
    "dai = Token('dai')\n",
    "eth = Token('eth')\n",
    "\n",
    "pool1 = Amm([dai, eth],[400*size, 1*size],[0.51, 0.49], fee=0.003)\n",
    "pool1.spot_price(dai, eth)\n"
   ]
  },
  {
   "cell_type": "code",
   "execution_count": 3,
   "metadata": {},
   "outputs": [
    {
     "data": {
      "text/plain": [
       "393.92156862745094"
      ]
     },
     "execution_count": 3,
     "metadata": {},
     "output_type": "execute_result"
    }
   ],
   "source": [
    "pool2 = Amm([dai, eth],[410*size, 1*size],[0.51, 0.49], fee=0.005)\n",
    "pool2.spot_price(dai, eth)"
   ]
  },
  {
   "cell_type": "code",
   "execution_count": 4,
   "metadata": {},
   "outputs": [],
   "source": [
    "# We can see that pool2 has a higher price for eth then pool1. If we have dai we can buy eth from pool1 and sell to pool2\n",
    "# The only question is how much should we buy and sell?"
   ]
  },
  {
   "cell_type": "code",
   "execution_count": 5,
   "metadata": {},
   "outputs": [],
   "source": [
    "from sympy import *\n",
    "from sympy.plotting import plot\n",
    "init_printing()"
   ]
  },
  {
   "cell_type": "code",
   "execution_count": 6,
   "metadata": {},
   "outputs": [
    {
     "data": {
      "text/plain": [
       "<Figure size 640x480 with 1 Axes>"
      ]
     },
     "metadata": {},
     "output_type": "display_data"
    },
    {
     "data": {
      "text/plain": [
       "<Figure size 640x480 with 1 Axes>"
      ]
     },
     "metadata": {},
     "output_type": "display_data"
    },
    {
     "data": {
      "text/plain": [
       "<sympy.plotting.plot.Plot at 0x7fc3b59ee278>"
      ]
     },
     "execution_count": 6,
     "metadata": {},
     "output_type": "execute_result"
    }
   ],
   "source": [
    "# We can plot our return function\n",
    "x = symbols('x')\n",
    "expr = pool1.out_given_in_expr(dai, eth)\n",
    "plot(expr, (x, 0, 50000))\n",
    "expr = pool1.out_given_in_expr(eth, dai)\n",
    "plot(expr, (x, 0, 200))"
   ]
  },
  {
   "cell_type": "code",
   "execution_count": 8,
   "metadata": {},
   "outputs": [
    {
     "data": {
      "image/png": "[encoded data removed]",
      "text/latex": [
       "$$- x - 3422571.1417668 \\left(\\frac{1}{- 6133696.1107411 \\left(\\frac{1}{0.997 x + 40000}\\right)^{1.04081632653061} + 199.5}\\right)^{0.96078431372549} + 41000$$"
      ],
      "text/plain": [
       "                                                                              \n",
       "                     ⎛                             1                          \n",
       "-x - 3422571.1417668⋅⎜────────────────────────────────────────────────────────\n",
       "                     ⎜                                   1.04081632653061     \n",
       "                     ⎜                  ⎛       1       ⎞                     \n",
       "                     ⎜- 6133696.1107411⋅⎜───────────────⎟                 + 19\n",
       "                     ⎝                  ⎝0.997⋅x + 40000⎠                     \n",
       "\n",
       "    0.96078431372549        \n",
       "   ⎞                        \n",
       "───⎟                 + 41000\n",
       "   ⎟                        \n",
       "   ⎟                        \n",
       "9.5⎟                        \n",
       "   ⎠                        "
      ]
     },
     "execution_count": 8,
     "metadata": {},
     "output_type": "execute_result"
    }
   ],
   "source": [
    "# How can we found if there is an arbitrage opertunity between pool1 and pool2?\n",
    "from Arbie.Actions.arbitrage import arbitrage_expr, arbitrage_diff_expr, TradeOpertunity\n",
    "\n",
    "trade = TradeOpertunity([pool1, pool2], dai, eth)\n",
    "arb_expr = arbitrage_expr(trade)\n",
    "arb_expr"
   ]
  },
  {
   "cell_type": "code",
   "execution_count": 9,
   "metadata": {},
   "outputs": [
    {
     "data": {
      "image/png": "[encoded data removed]",
      "text/plain": [
       "<Figure size 432x288 with 1 Axes>"
      ]
     },
     "metadata": {
      "needs_background": "light"
     },
     "output_type": "display_data"
    },
    {
     "data": {
      "text/plain": [
       "<sympy.plotting.plot.Plot at 0x7fc3b3923278>"
      ]
     },
     "execution_count": 9,
     "metadata": {},
     "output_type": "execute_result"
    }
   ],
   "source": [
    "# If we plot we can clearly see that there seams to be some profit to be made!\n",
    "plot(arb_expr, (x, 0, 400))"
   ]
  },
  {
   "cell_type": "code",
   "execution_count": 10,
   "metadata": {},
   "outputs": [
    {
     "data": {
      "image/png": "[encoded data removed]",
      "text/latex": [
       "$$-1 + \\frac{20930032267086.8 \\left(\\frac{1}{0.997 x + 40000}\\right)^{1.04081632653061} \\left(\\frac{1}{- 6133696.1107411 \\left(\\frac{1}{0.997 x + 40000}\\right)^{1.04081632653061} + 199.5}\\right)^{0.96078431372549}}{\\left(0.997 x + 40000\\right) \\left(- 6133696.1107411 \\left(\\frac{1}{0.997 x + 40000}\\right)^{1.04081632653061} + 199.5\\right)}$$"
      ],
      "text/plain": [
       "                                       1.04081632653061                       \n",
       "                      ⎛       1       ⎞                 ⎛                     \n",
       "     20930032267086.8⋅⎜───────────────⎟                ⋅⎜─────────────────────\n",
       "                      ⎝0.997⋅x + 40000⎠                 ⎜                     \n",
       "                                                        ⎜                  ⎛  \n",
       "                                                        ⎜- 6133696.1107411⋅⎜──\n",
       "                                                        ⎝                  ⎝0.\n",
       "-1 + ─────────────────────────────────────────────────────────────────────────\n",
       "                                               ⎛                              \n",
       "                                               ⎜                  ⎛       1   \n",
       "                             (0.997⋅x + 40000)⋅⎜- 6133696.1107411⋅⎜───────────\n",
       "                                               ⎝                  ⎝0.997⋅x + 4\n",
       "\n",
       "                                       0.96078431372549\n",
       "        1                             ⎞                \n",
       "──────────────────────────────────────⎟                \n",
       "              1.04081632653061        ⎟                \n",
       "     1       ⎞                        ⎟                \n",
       "─────────────⎟                 + 199.5⎟                \n",
       "997⋅x + 40000⎠                        ⎠                \n",
       "───────────────────────────────────────────────────────\n",
       "     1.04081632653061        ⎞                         \n",
       "    ⎞                        ⎟                         \n",
       "────⎟                 + 199.5⎟                         \n",
       "0000⎠                        ⎠                         "
      ]
     },
     "execution_count": 10,
     "metadata": {},
     "output_type": "execute_result"
    }
   ],
   "source": [
    "darb_expr = arbitrage_diff_expr(trade)\n",
    "darb_expr"
   ]
  },
  {
   "cell_type": "code",
   "execution_count": 11,
   "metadata": {},
   "outputs": [
    {
     "data": {
      "image/png": "[encoded data removed]",
      "text/latex": [
       "$$165.009948076536$$"
      ],
      "text/plain": [
       "165.009948076536"
      ]
     },
     "execution_count": 11,
     "metadata": {},
     "output_type": "execute_result"
    }
   ],
   "source": [
    "from Arbie.Actions.arbitrage import find_arbitrage\n",
    "find_arbitrage(trade)"
   ]
  },
  {
   "cell_type": "code",
   "execution_count": 13,
   "metadata": {},
   "outputs": [
    {
     "data": {
      "image/png": "[encoded data removed]",
      "text/plain": [
       "<Figure size 432x288 with 1 Axes>"
      ]
     },
     "metadata": {
      "needs_background": "light"
     },
     "output_type": "display_data"
    },
    {
     "data": {
      "text/plain": [
       "<sympy.plotting.plot.Plot at 0x7fc3b36e8be0>"
      ]
     },
     "execution_count": 13,
     "metadata": {},
     "output_type": "execute_result"
    }
   ],
   "source": [
    "# If we have two pools that dosn't have an arbitrage opertunity what happens then?\n",
    "bad_trade = TradeOpertunity([pool2, pool1], dai, eth)\n",
    "bad_expr = arbitrage_expr(bad_trade)\n",
    "plot(bad_expr, (x, 0, 400))"
   ]
  },
  {
   "cell_type": "code",
   "execution_count": null,
   "metadata": {},
   "outputs": [],
   "source": []
  }
 ],
 "metadata": {
  "kernelspec": {
   "display_name": "Python 3",
   "language": "python",
   "name": "python3"
  },
  "language_info": {
   "codemirror_mode": {
    "name": "ipython",
    "version": 3
   },
   "file_extension": ".py",
   "mimetype": "text/x-python",
   "name": "python",
   "nbconvert_exporter": "python",
   "pygments_lexer": "ipython3",
   "version": "3.8.5"
  }
 },
 "nbformat": 4,
 "nbformat_minor": 4
}
