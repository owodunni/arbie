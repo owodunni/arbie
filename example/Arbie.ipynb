{
 "cells": [
  {
   "cell_type": "code",
   "execution_count": 10,
   "metadata": {},
   "outputs": [
    {
     "name": "stdout",
     "output_type": "stream",
     "text": [
      "Requirement already satisfied: Arbie in /opt/conda/lib/python3.6/site-packages (0.1.0)\n",
      "Requirement already satisfied: web3 in /opt/conda/lib/python3.6/site-packages (from Arbie) (5.4.0)\n",
      "Requirement already satisfied: rx in /opt/conda/lib/python3.6/site-packages (from Arbie) (3.1.1)\n",
      "Requirement already satisfied: ipfshttpclient<1,>=0.4.12 in /opt/conda/lib/python3.6/site-packages (from web3->Arbie) (0.6.0.post1)\n",
      "Requirement already satisfied: protobuf<4,>=3.10.0 in /opt/conda/lib/python3.6/site-packages (from web3->Arbie) (3.12.4)\n",
      "Requirement already satisfied: typing-extensions<4,>=3.7.4.1 in /opt/conda/lib/python3.6/site-packages (from web3->Arbie) (3.7.4.2)\n",
      "Requirement already satisfied: jsonschema<4.0.0,>=3.0.0 in /opt/conda/lib/python3.6/site-packages (from web3->Arbie) (3.2.0)\n",
      "Requirement already satisfied: mypy-extensions<1.0.0,>=0.4.1 in /opt/conda/lib/python3.6/site-packages (from web3->Arbie) (0.4.3)\n",
      "Requirement already satisfied: eth-hash[pycryptodome]<1.0.0,>=0.2.0 in /opt/conda/lib/python3.6/site-packages (from web3->Arbie) (0.2.0)\n",
      "Requirement already satisfied: eth-utils<2.0.0,>=1.8.4 in /opt/conda/lib/python3.6/site-packages (from web3->Arbie) (1.9.0)\n",
      "Requirement already satisfied: lru-dict<2.0.0,>=1.1.6 in /opt/conda/lib/python3.6/site-packages (from web3->Arbie) (1.1.6)\n",
      "Requirement already satisfied: requests<3.0.0,>=2.16.0 in /opt/conda/lib/python3.6/site-packages (from web3->Arbie) (2.21.0)\n",
      "Requirement already satisfied: eth-account<0.5.0,>=0.4.0 in /opt/conda/lib/python3.6/site-packages (from web3->Arbie) (0.4.0)\n",
      "Requirement already satisfied: eth-abi<3.0.0,>=2.0.0b6 in /opt/conda/lib/python3.6/site-packages (from web3->Arbie) (2.1.1)\n",
      "Requirement already satisfied: eth-typing<3.0.0,>=2.0.0 in /opt/conda/lib/python3.6/site-packages (from web3->Arbie) (2.2.1)\n",
      "Requirement already satisfied: hexbytes<1.0.0,>=0.1.0 in /opt/conda/lib/python3.6/site-packages (from web3->Arbie) (0.2.1)\n",
      "Requirement already satisfied: websockets<9.0.0,>=8.1.0 in /opt/conda/lib/python3.6/site-packages (from web3->Arbie) (8.1)\n",
      "Requirement already satisfied: multiaddr>=0.0.7 in /opt/conda/lib/python3.6/site-packages (from ipfshttpclient<1,>=0.4.12->web3->Arbie) (0.0.9)\n",
      "Requirement already satisfied: six>=1.9 in /opt/conda/lib/python3.6/site-packages (from protobuf<4,>=3.10.0->web3->Arbie) (1.12.0)\n",
      "Requirement already satisfied: setuptools in /opt/conda/lib/python3.6/site-packages (from protobuf<4,>=3.10.0->web3->Arbie) (40.6.3)\n",
      "Requirement already satisfied: importlib-metadata; python_version < \"3.8\" in /opt/conda/lib/python3.6/site-packages (from jsonschema<4.0.0,>=3.0.0->web3->Arbie) (1.7.0)\n",
      "Requirement already satisfied: pyrsistent>=0.14.0 in /opt/conda/lib/python3.6/site-packages (from jsonschema<4.0.0,>=3.0.0->web3->Arbie) (0.14.8)\n",
      "Requirement already satisfied: attrs>=17.4.0 in /opt/conda/lib/python3.6/site-packages (from jsonschema<4.0.0,>=3.0.0->web3->Arbie) (18.2.0)\n",
      "Requirement already satisfied: pycryptodome<4,>=3.6.6; extra == \"pycryptodome\" in /opt/conda/lib/python3.6/site-packages (from eth-hash[pycryptodome]<1.0.0,>=0.2.0->web3->Arbie) (3.9.8)\n",
      "Requirement already satisfied: cytoolz<1.0.0,>=0.10.1; implementation_name == \"cpython\" in /opt/conda/lib/python3.6/site-packages (from eth-utils<2.0.0,>=1.8.4->web3->Arbie) (0.10.1)\n",
      "Requirement already satisfied: idna<2.9,>=2.5 in /opt/conda/lib/python3.6/site-packages (from requests<3.0.0,>=2.16.0->web3->Arbie) (2.8)\n",
      "Requirement already satisfied: certifi>=2017.4.17 in /opt/conda/lib/python3.6/site-packages (from requests<3.0.0,>=2.16.0->web3->Arbie) (2018.11.29)\n",
      "Requirement already satisfied: chardet<3.1.0,>=3.0.2 in /opt/conda/lib/python3.6/site-packages (from requests<3.0.0,>=2.16.0->web3->Arbie) (3.0.4)\n",
      "Requirement already satisfied: urllib3<1.25,>=1.21.1 in /opt/conda/lib/python3.6/site-packages (from requests<3.0.0,>=2.16.0->web3->Arbie) (1.24.1)\n",
      "Requirement already satisfied: rlp<2,>=1.0.0 in /opt/conda/lib/python3.6/site-packages (from eth-account<0.5.0,>=0.4.0->web3->Arbie) (1.2.0)\n",
      "Requirement already satisfied: eth-keys<0.3.0,>=0.2.1 in /opt/conda/lib/python3.6/site-packages (from eth-account<0.5.0,>=0.4.0->web3->Arbie) (0.2.4)\n",
      "Requirement already satisfied: attrdict<3,>=2.0.0 in /opt/conda/lib/python3.6/site-packages (from eth-account<0.5.0,>=0.4.0->web3->Arbie) (2.0.1)\n",
      "Requirement already satisfied: eth-keyfile<0.6.0,>=0.5.0 in /opt/conda/lib/python3.6/site-packages (from eth-account<0.5.0,>=0.4.0->web3->Arbie) (0.5.1)\n",
      "Requirement already satisfied: eth-rlp<1,>=0.1.2 in /opt/conda/lib/python3.6/site-packages (from eth-account<0.5.0,>=0.4.0->web3->Arbie) (0.1.2)\n",
      "Requirement already satisfied: parsimonious<0.9.0,>=0.8.0 in /opt/conda/lib/python3.6/site-packages (from eth-abi<3.0.0,>=2.0.0b6->web3->Arbie) (0.8.1)\n",
      "Requirement already satisfied: netaddr in /opt/conda/lib/python3.6/site-packages (from multiaddr>=0.0.7->ipfshttpclient<1,>=0.4.12->web3->Arbie) (0.8.0)\n",
      "Requirement already satisfied: varint in /opt/conda/lib/python3.6/site-packages (from multiaddr>=0.0.7->ipfshttpclient<1,>=0.4.12->web3->Arbie) (1.0.2)\n",
      "Requirement already satisfied: base58 in /opt/conda/lib/python3.6/site-packages (from multiaddr>=0.0.7->ipfshttpclient<1,>=0.4.12->web3->Arbie) (2.0.1)\n",
      "Requirement already satisfied: zipp>=0.5 in /opt/conda/lib/python3.6/site-packages (from importlib-metadata; python_version < \"3.8\"->jsonschema<4.0.0,>=3.0.0->web3->Arbie) (3.1.0)\n",
      "Requirement already satisfied: toolz>=0.8.0 in /opt/conda/lib/python3.6/site-packages (from cytoolz<1.0.0,>=0.10.1; implementation_name == \"cpython\"->eth-utils<2.0.0,>=1.8.4->web3->Arbie) (0.9.0)\n",
      "Requirement already satisfied: importlib-resources; python_version < \"3.7\" in /opt/conda/lib/python3.6/site-packages (from netaddr->multiaddr>=0.0.7->ipfshttpclient<1,>=0.4.12->web3->Arbie) (3.0.0)\n"
     ]
    }
   ],
   "source": [
    "! pip install Arbie"
   ]
  },
  {
   "cell_type": "code",
   "execution_count": 2,
   "metadata": {},
   "outputs": [],
   "source": [
    "from Arbie.Actions.amm import Amm, Token, Variable"
   ]
  },
  {
   "cell_type": "code",
   "execution_count": 3,
   "metadata": {},
   "outputs": [
    {
     "data": {
      "text/plain": [
       "400.0"
      ]
     },
     "execution_count": 3,
     "metadata": {},
     "output_type": "execute_result"
    }
   ],
   "source": [
    "size = 100\n",
    "\n",
    "# Setup tokens\n",
    "dai = Token('dai')\n",
    "eth = Token('eth')\n",
    "\n",
    "# Setup weights\n",
    "b = [Variable(dai,400*size), Variable(eth,1*size)]\n",
    "w = [Variable(dai, 0.5), Variable(eth, 0.5)]\n",
    "\n",
    "pool1 = Amm(b,w, 0.003)\n",
    "pool1.spot_price(dai, eth)\n"
   ]
  },
  {
   "cell_type": "code",
   "execution_count": 4,
   "metadata": {},
   "outputs": [
    {
     "data": {
      "text/plain": [
       "410.0"
      ]
     },
     "execution_count": 4,
     "metadata": {},
     "output_type": "execute_result"
    }
   ],
   "source": [
    "# Setup weights\n",
    "b = [Variable(dai,410*size), Variable(eth,1*size)]\n",
    "w = [Variable(dai, 0.5), Variable(eth, 0.5)]\n",
    "\n",
    "pool2 = Amm(b,w, 0.005)\n",
    "pool2.spot_price(dai, eth)"
   ]
  },
  {
   "cell_type": "code",
   "execution_count": 5,
   "metadata": {},
   "outputs": [],
   "source": [
    "# We can see that pool2 has a higher price for eth then pool1. If we have dai we can buy eth from pool1 and sell to pool2\n",
    "# The only question is how much should we buy and sell?"
   ]
  },
  {
   "cell_type": "code",
   "execution_count": 6,
   "metadata": {},
   "outputs": [],
   "source": [
    "def arbitrage(pool_low, pool_high, amount):\n",
    "    eth_amount = pool1.out_given_in(dai, eth, amount)\n",
    "    #print(\"ETH {0} bought\".format(eth_amount))\n",
    "    dai_amount = pool2.out_given_in(eth, dai, eth_amount)\n",
    "    #print(\"Dai {0} bought\".format(dai_amount))\n",
    "    return dai_amount-amount\n",
    "    "
   ]
  },
  {
   "cell_type": "code",
   "execution_count": 7,
   "metadata": {},
   "outputs": [
    {
     "name": "stdout",
     "output_type": "stream",
     "text": [
      "We made -192.37661833917173 profit\n"
     ]
    }
   ],
   "source": [
    "amount = 2250\n",
    "\n",
    "profit = arbitrage(pool1, pool2, amount)\n",
    "\n",
    "print(\"We made {0} profit\".format((profit)))"
   ]
  },
  {
   "cell_type": "code",
   "execution_count": 8,
   "metadata": {},
   "outputs": [],
   "source": [
    "%matplotlib inline"
   ]
  },
  {
   "cell_type": "code",
   "execution_count": 9,
   "metadata": {},
   "outputs": [
    {
     "data": {
      "text/plain": [
       "Text(0.5,1,'Profit graph')"
      ]
     },
     "execution_count": 9,
     "metadata": {},
     "output_type": "execute_result"
    },
    {
     "data": {
      "image/png": "[encoded data removed]",
      "text/plain": [
       "<Figure size 432x288 with 1 Axes>"
      ]
     },
     "metadata": {
      "needs_background": "light"
     },
     "output_type": "display_data"
    }
   ],
   "source": [
    "import matplotlib.pyplot as plt\n",
    "y =[]\n",
    "x = range(1,400,1)\n",
    "for amount in x:\n",
    "    y.append(arbitrage(pool1, pool2, amount))\n",
    "    \n",
    "plt.plot(x, y)\n",
    "plt.title('Profit graph')"
   ]
  },
  {
   "cell_type": "code",
   "execution_count": 11,
   "metadata": {},
   "outputs": [
    {
     "ename": "SyntaxError",
     "evalue": "invalid syntax (arbitrage.py, line 9)",
     "output_type": "error",
     "traceback": [
      "Traceback \u001b[0;36m(most recent call last)\u001b[0m:\n",
      "  File \u001b[1;32m\"/opt/conda/lib/python3.6/site-packages/IPython/core/interactiveshell.py\"\u001b[0m, line \u001b[1;32m3267\u001b[0m, in \u001b[1;35mrun_code\u001b[0m\n    exec(code_obj, self.user_global_ns, self.user_ns)\n",
      "\u001b[0;36m  File \u001b[0;32m\"<ipython-input-11-281fc3668616>\"\u001b[0;36m, line \u001b[0;32m1\u001b[0;36m, in \u001b[0;35m<module>\u001b[0;36m\u001b[0m\n\u001b[0;31m    from Arbie.Actions.arbitrage import Arbitrage\u001b[0m\n",
      "\u001b[0;36m  File \u001b[0;32m\"/opt/conda/lib/python3.6/site-packages/Arbie/Actions/arbitrage.py\"\u001b[0;36m, line \u001b[0;32m9\u001b[0m\n\u001b[0;31m    state[]\u001b[0m\n\u001b[0m          ^\u001b[0m\n\u001b[0;31mSyntaxError\u001b[0m\u001b[0;31m:\u001b[0m invalid syntax\n"
     ]
    }
   ],
   "source": [
    "from Arbie.Actions.arbitrage import Arbitrage"
   ]
  },
  {
   "cell_type": "code",
   "execution_count": null,
   "metadata": {},
   "outputs": [],
   "source": []
  }
 ],
 "metadata": {
  "kernelspec": {
   "display_name": "Python 3",
   "language": "python",
   "name": "python3"
  },
  "language_info": {
   "codemirror_mode": {
    "name": "ipython",
    "version": 3
   },
   "file_extension": ".py",
   "mimetype": "text/x-python",
   "name": "python",
   "nbconvert_exporter": "python",
   "pygments_lexer": "ipython3",
   "version": "3.6.7"
  }
 },
 "nbformat": 4,
 "nbformat_minor": 2
}
