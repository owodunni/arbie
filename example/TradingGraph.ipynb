{
 "cells": [
  {
   "cell_type": "code",
   "execution_count": 1,
   "metadata": {},
   "outputs": [
    {
     "data": {
      "text/plain": [
       "<networkx.classes.multidigraph.MultiDiGraph at 0x7fc507c94df0>"
      ]
     },
     "execution_count": 1,
     "metadata": {},
     "output_type": "execute_result"
    }
   ],
   "source": [
    "from Arbie import Token\n",
    "from Arbie.Actions.path_finder import TradingGraph\n",
    "from Arbie.Actions.amm import Amm\n",
    "import networkx as nx\n",
    "\n",
    "eth = Token('eth')  # 300\n",
    "dai = Token('dai')  # 1\n",
    "btc = Token('btc')  # 10000\n",
    "yam = Token('yam')  # 0.1\n",
    "\n",
    "small = 10\n",
    "medium = 100\n",
    "large = 1000\n",
    "\n",
    "pools = [\n",
    "        Amm(\n",
    "            [eth, dai, yam],\n",
    "            [small / 303.0, small / 0.9, small / 0.1],\n",
    "            [1 / 3.0, 1 / 3.0, 1 / 3.0], 0.004),\n",
    "        Amm(\n",
    "            [eth, btc],\n",
    "            [large / 305.0, large / 10000],\n",
    "            [5 / 6, 1 / 6], 0.01),\n",
    "        Amm(\n",
    "            [eth, dai, btc],\n",
    "            [medium / 301.0, medium / 1.1, medium / 10020],\n",
    "            [1 / 2.0, 1 / 4.0, 1 / 4.0], 0.004),\n",
    "        Amm(\n",
    "            [dai, yam],\n",
    "            [small / 1.1, small / 0.1],\n",
    "            [1 / 2.0, 1 / 2.0], 0.001),\n",
    "    ]\n",
    "\n",
    "\n",
    "graph = TradingGraph(pools)\n",
    "graph.graph"
   ]
  },
  {
   "cell_type": "code",
   "execution_count": 18,
   "metadata": {},
   "outputs": [
    {
     "data": {
      "image/png": "[encoded data removed]",
      "text/plain": [
       "<Figure size 432x288 with 1 Axes>"
      ]
     },
     "metadata": {},
     "output_type": "display_data"
    }
   ],
   "source": [
    "import matplotlib.pyplot as plt\n",
    "pos = nx.random_layout(graph.graph)\n",
    "nx.draw_networkx_nodes(graph.graph, pos, node_size = 600, alpha = 1)\n",
    "labels = nx.draw_networkx_labels(graph.graph, pos=pos, font_weight='bold')\n",
    "ax = plt.gca()\n",
    "for e in graph.get_edges():\n",
    "    ax.annotate(\"\",\n",
    "                xy=pos[e[0]], xycoords='data',\n",
    "                xytext=pos[e[1]], textcoords='data',\n",
    "                arrowprops=dict(arrowstyle=\"->\", color=\"0.5\",\n",
    "                                shrinkA=5, shrinkB=5,\n",
    "                                patchA=None, patchB=None,\n",
    "                                connectionstyle=\"arc3,rad=rrr\".replace('rrr',str(0.3*e[2])\n",
    "                                ),\n",
    "                                ),\n",
    "                )\n",
    "plt.axis('off')\n",
    "plt.show()"
   ]
  },
  {
   "cell_type": "code",
   "execution_count": 3,
   "metadata": {},
   "outputs": [
    {
     "name": "stdout",
     "output_type": "stream",
     "text": [
      "(eth, dai, 0.0029703)\n",
      "(eth, dai, 0.00182724)\n",
      "(eth, yam, 0.000330033)\n",
      "(eth, btc, 6.55738)\n",
      "(eth, btc, 16.6445)\n",
      "(dai, eth, 336.667)\n",
      "(dai, eth, 547.273)\n",
      "(dai, yam, 0.111111)\n",
      "(dai, yam, 0.0909091)\n",
      "(dai, btc, 9109.09)\n",
      "(yam, eth, 3030.0)\n",
      "(yam, dai, 9.0)\n",
      "(yam, dai, 11.0)\n",
      "(btc, eth, 0.1525)\n",
      "(btc, eth, 0.0600798)\n",
      "(btc, dai, 0.00010978)\n"
     ]
    }
   ],
   "source": [
    "for (u, v, wt) in graph.get_edges().data('weight'):\n",
    "    print(f\"({u}, {v}, {wt:.6})\")"
   ]
  },
  {
   "cell_type": "code",
   "execution_count": 5,
   "metadata": {},
   "outputs": [
    {
     "name": "stdout",
     "output_type": "stream",
     "text": [
      "(eth, dai, 0.0029703)\n",
      "(eth, yam, 0.000330033)\n",
      "(eth, btc, 16.6445)\n",
      "(dai, eth, 547.273)\n",
      "(dai, yam, 0.111111)\n",
      "(dai, btc, 9109.09)\n",
      "(yam, eth, 3030.0)\n",
      "(yam, dai, 11.0)\n",
      "(btc, eth, 0.1525)\n",
      "(btc, dai, 0.00010978)\n"
     ]
    }
   ],
   "source": [
    "from Arbie.Actions.path_finder import FilteredTradingGraph\n",
    "\n",
    "f_graph = FilteredTradingGraph(graph)\n",
    "\n",
    "for (u, v, wt) in f_graph.get_edges().data('weight'):\n",
    "    print(f\"({u}, {v}, {wt:.6})\")"
   ]
  },
  {
   "cell_type": "code",
   "execution_count": 24,
   "metadata": {},
   "outputs": [
    {
     "ename": "TypeError",
     "evalue": "maximum_flow() missing 2 required positional arguments: '_s' and '_t'",
     "output_type": "error",
     "traceback": [
      "\u001b[0;31m---------------------------------------------------------------------------\u001b[0m",
      "\u001b[0;31mTypeError\u001b[0m                                 Traceback (most recent call last)",
      "\u001b[0;32m<ipython-input-24-707b3f136d8f>\u001b[0m in \u001b[0;36m<module>\u001b[0;34m\u001b[0m\n\u001b[0;32m----> 1\u001b[0;31m \u001b[0mnx\u001b[0m\u001b[0;34m.\u001b[0m\u001b[0mmaximum_flow\u001b[0m\u001b[0;34m(\u001b[0m\u001b[0mf_graph\u001b[0m\u001b[0;34m.\u001b[0m\u001b[0mgraph\u001b[0m\u001b[0;34m)\u001b[0m\u001b[0;34m\u001b[0m\u001b[0;34m\u001b[0m\u001b[0m\n\u001b[0m",
      "\u001b[0;31mTypeError\u001b[0m: maximum_flow() missing 2 required positional arguments: '_s' and '_t'"
     ]
    }
   ],
   "source": [
    "nx.maximum_flow(f_graph.graph)"
   ]
  },
  {
   "cell_type": "code",
   "execution_count": null,
   "metadata": {},
   "outputs": [],
   "source": []
  },
  {
   "cell_type": "code",
   "execution_count": null,
   "metadata": {},
   "outputs": [],
   "source": []
  }
 ],
 "metadata": {
  "kernelspec": {
   "display_name": "Python 3",
   "language": "python",
   "name": "python3"
  },
  "language_info": {
   "codemirror_mode": {
    "name": "ipython",
    "version": 3
   },
   "file_extension": ".py",
   "mimetype": "text/x-python",
   "name": "python",
   "nbconvert_exporter": "python",
   "pygments_lexer": "ipython3",
   "version": "3.8.5"
  }
 },
 "nbformat": 4,
 "nbformat_minor": 4
}
