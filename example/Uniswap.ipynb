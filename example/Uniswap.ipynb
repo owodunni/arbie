{
 "cells": [
  {
   "cell_type": "code",
   "execution_count": 1,
   "metadata": {},
   "outputs": [],
   "source": [
    "from web3 import Web3\n",
    "import pprint as pp"
   ]
  },
  {
   "cell_type": "code",
   "execution_count": 2,
   "metadata": {},
   "outputs": [
    {
     "data": {
      "text/plain": [
       "True"
      ]
     },
     "execution_count": 2,
     "metadata": {},
     "output_type": "execute_result"
    }
   ],
   "source": [
    "w3 = Web3(Web3.HTTPProvider('https://mainnet.infura.io/v3/c6e7f057427949da8d51837a25816997'))\n",
    "w3.isConnected()"
   ]
  },
  {
   "cell_type": "code",
   "execution_count": 15,
   "metadata": {},
   "outputs": [],
   "source": [
    "from Arbie.Contracts.contract import Address, ContractFactory, Network\n",
    "from Arbie.Contracts.uniswap import Factory, Pair\n",
    "\n",
    "# https://uniswap.info/pair/0xbb2b8038a1640196fbe3e38816f3e67cba72d940\n",
    "# WBTC-ETH Pair\n",
    "#pair_address = Address(\"0xBb2b8038a1640196FbE3e38816F3e67Cba72D940\")\n",
    "\n",
    "\n",
    "# https://uniswap.info/pair/0x94cdd18f53a8f3ec9a3ec0cbe897aed5ea009c43\n",
    "# DAI-yDAI Pair\n",
    "#pair_address = Address(\"0x94cDd18F53a8f3EC9A3Ec0CBE897aED5ea009c43\")\n",
    "\n",
    "uni_factory = ContractFactory(w3, Factory).load_contract(\n",
    "    Address(\"\"), network=Network.mainnet)\n",
    "\n",
    "pair_address = uni_factory.get_pair_address(3)"
   ]
  },
  {
   "cell_type": "code",
   "execution_count": 16,
   "metadata": {},
   "outputs": [
    {
     "name": "stdout",
     "output_type": "stream",
     "text": [
      "[GenericToken, name: Dai Stablecoin, address: 0x6B175474E89094C44Da98b954EedeAC495271d0F,\n",
      " GenericToken, name: Wrapped Ether, address: 0xC02aaA39b223FE8D0A0e5C4F27eAD9083C756Cc2]\n"
     ]
    },
    {
     "data": {
      "text/plain": [
       "350.7147669626478"
      ]
     },
     "execution_count": 16,
     "metadata": {},
     "output_type": "execute_result"
    }
   ],
   "source": [
    "pair = ContractFactory(w3, Pair).load_contract(Address(\"\"), address=pair_address)\n",
    "\n",
    "tokens = pair.get_tokens()\n",
    "pp.pprint(tokens)\n",
    "\n",
    "amm = pair.create_amm()\n",
    "amm.spot_price(tokens[0].create_token(), tokens[1].create_token())"
   ]
  },
  {
   "cell_type": "code",
   "execution_count": null,
   "metadata": {},
   "outputs": [],
   "source": []
  }
 ],
 "metadata": {
  "kernelspec": {
   "display_name": "Python 3",
   "language": "python",
   "name": "python3"
  },
  "language_info": {
   "codemirror_mode": {
    "name": "ipython",
    "version": 3
   },
   "file_extension": ".py",
   "mimetype": "text/x-python",
   "name": "python",
   "nbconvert_exporter": "python",
   "pygments_lexer": "ipython3",
   "version": "3.8.5"
  }
 },
 "nbformat": 4,
 "nbformat_minor": 4
}
