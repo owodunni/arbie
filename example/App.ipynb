{
 "cells": [
  {
   "cell_type": "code",
   "execution_count": 1,
   "metadata": {},
   "outputs": [],
   "source": [
    "from Arbie.__main__ import setup_logging\n",
    "setup_logging()"
   ]
  },
  {
   "cell_type": "code",
   "execution_count": 2,
   "metadata": {},
   "outputs": [
    {
     "data": {
      "text/plain": [
       "True"
      ]
     },
     "execution_count": 2,
     "metadata": {},
     "output_type": "execute_result"
    }
   ],
   "source": [
    "from web3 import Web3\n",
    "#w3 = Web3(Web3.HTTPProvider('https://mainnet.infura.io/v3/c6e7f057427949da8d51837a25816997'))\n",
    "w3 = Web3(Web3.HTTPProvider('http://gluteus:8545'))\n",
    "w3.isConnected()"
   ]
  },
  {
   "cell_type": "code",
   "execution_count": 3,
   "metadata": {},
   "outputs": [
    {
     "name": "stderr",
     "output_type": "stream",
     "text": [
      "root        : INFO     Connected to Node http://gluteus:8545\n",
      "root        : INFO     Current block is 11171396\n"
     ]
    }
   ],
   "source": [
    "from Arbie.arbie import App\n",
    "import yaml\n",
    "\n",
    "config = \"\"\"\n",
    "web3_address: 'http://gluteus:8545'\n",
    "weth_address: '0xC02aaA39b223FE8D0A0e5C4F27eAD9083C756Cc2'\n",
    "network: mainnet\n",
    "actions:\n",
    "    PoolFinder:\n",
    "\"\"\"\n",
    "app = App(yaml.safe_load(config))"
   ]
  },
  {
   "cell_type": "code",
   "execution_count": null,
   "metadata": {},
   "outputs": [],
   "source": []
  }
 ],
 "metadata": {
  "kernelspec": {
   "display_name": "Python 3",
   "language": "python",
   "name": "python3"
  },
  "language_info": {
   "codemirror_mode": {
    "name": "ipython",
    "version": 3
   },
   "file_extension": ".py",
   "mimetype": "text/x-python",
   "name": "python",
   "nbconvert_exporter": "python",
   "pygments_lexer": "ipython3",
   "version": "3.8.5"
  }
 },
 "nbformat": 4,
 "nbformat_minor": 4
}
